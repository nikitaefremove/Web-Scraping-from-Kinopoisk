{
 "cells": [
  {
   "cell_type": "code",
   "execution_count": 1,
   "id": "11eb5297",
   "metadata": {},
   "outputs": [
    {
     "name": "stdout",
     "output_type": "stream",
     "text": [
      "Requirement already satisfied: requests in c:\\users\\nikit\\appdata\\local\\programs\\python\\python311\\lib\\site-packages (2.28.2)\n",
      "Requirement already satisfied: charset-normalizer<4,>=2 in c:\\users\\nikit\\appdata\\local\\programs\\python\\python311\\lib\\site-packages (from requests) (3.0.1)\n",
      "Requirement already satisfied: idna<4,>=2.5 in c:\\users\\nikit\\appdata\\local\\programs\\python\\python311\\lib\\site-packages (from requests) (2.10)\n",
      "Requirement already satisfied: urllib3<1.27,>=1.21.1 in c:\\users\\nikit\\appdata\\local\\programs\\python\\python311\\lib\\site-packages (from requests) (1.26.14)\n",
      "Requirement already satisfied: certifi>=2017.4.17 in c:\\users\\nikit\\appdata\\local\\programs\\python\\python311\\lib\\site-packages (from requests) (2022.12.7)\n",
      "Requirement already satisfied: bs4 in c:\\users\\nikit\\appdata\\local\\programs\\python\\python311\\lib\\site-packages (0.0.1)\n",
      "Requirement already satisfied: beautifulsoup4 in c:\\users\\nikit\\appdata\\local\\programs\\python\\python311\\lib\\site-packages (from bs4) (4.11.1)\n",
      "Requirement already satisfied: soupsieve>1.2 in c:\\users\\nikit\\appdata\\local\\programs\\python\\python311\\lib\\site-packages (from beautifulsoup4->bs4) (2.3.2.post1)\n",
      "Requirement already satisfied: pandas in c:\\users\\nikit\\appdata\\local\\programs\\python\\python311\\lib\\site-packages (1.5.2)\n",
      "Requirement already satisfied: python-dateutil>=2.8.1 in c:\\users\\nikit\\appdata\\local\\programs\\python\\python311\\lib\\site-packages (from pandas) (2.8.2)\n",
      "Requirement already satisfied: pytz>=2020.1 in c:\\users\\nikit\\appdata\\local\\programs\\python\\python311\\lib\\site-packages (from pandas) (2022.7.1)\n",
      "Requirement already satisfied: numpy>=1.21.0 in c:\\users\\nikit\\appdata\\local\\programs\\python\\python311\\lib\\site-packages (from pandas) (1.24.1)\n",
      "Requirement already satisfied: six>=1.5 in c:\\users\\nikit\\appdata\\local\\programs\\python\\python311\\lib\\site-packages (from python-dateutil>=2.8.1->pandas) (1.16.0)\n"
     ]
    }
   ],
   "source": [
    "!pip install requests\n",
    "!pip install bs4\n",
    "!pip install pandas"
   ]
  },
  {
   "cell_type": "code",
   "execution_count": 2,
   "id": "88d4a637",
   "metadata": {},
   "outputs": [],
   "source": [
    "import requests\n",
    "from bs4 import BeautifulSoup as bs\n",
    "import pandas as pd\n",
    "from time import sleep"
   ]
  },
  {
   "cell_type": "code",
   "execution_count": 3,
   "id": "304f6266",
   "metadata": {},
   "outputs": [],
   "source": [
    "url = \"https://www.kinopoisk.ru/lists/movies/top250/?page=1\"\n",
    "r = requests.get(url)\n",
    "soup = bs(r.text , 'html')"
   ]
  },
  {
   "cell_type": "code",
   "execution_count": 8,
   "id": "d4730e6d",
   "metadata": {},
   "outputs": [
    {
     "name": "stdout",
     "output_type": "stream",
     "text": [
      "1\n",
      "2\n",
      "3\n",
      "4\n",
      "5\n"
     ]
    }
   ],
   "source": [
    "data = []\n",
    "\n",
    "for p in range(1 , 6):\n",
    "    print(p)\n",
    "    \n",
    "    url = f\"https://www.kinopoisk.ru/lists/movies/top250/?page={p}\"\n",
    "    r = requests.get(url)\n",
    "    sleep(3)\n",
    "    soup = bs(r.text , 'html')\n",
    "    \n",
    "    films = soup.findAll('div' , class_= \"styles_root__ti07r\")\n",
    "    \n",
    "    for film in films:\n",
    "        try:\n",
    "            link = \"https://www.kinopoisk.ru\" + film.find('a' , class_='base-movie-main-info_link__YwtP1').get('href')\n",
    "        except:\n",
    "            link = '-'\n",
    "        \n",
    "        try:\n",
    "            name = film.find('a' , class_='base-movie-main-info_link__YwtP1').find('span' , class_= \"styles_mainTitle__IFQyZ styles_activeMovieTittle__kJdJj\").text\n",
    "        except:\n",
    "            name = '-'\n",
    "       \n",
    "        try:\n",
    "            year = film.find('a' , class_='base-movie-main-info_link__YwtP1').find('span' , class_= \"desktop-list-main-info_secondaryText__M_aus\").text[2 : 6]\n",
    "        except:\n",
    "            year = '-'\n",
    "        try:\n",
    "            timing = film.find('a' , class_='base-movie-main-info_link__YwtP1').find('span' , class_= \"desktop-list-main-info_secondaryText__M_aus\").text[8:11]\n",
    "        except:\n",
    "            timing = '-'\n",
    "        try:\n",
    "            rating = float(film.find('span' , class_= \"styles_kinopoiskValuePositive__vOb2E styles_kinopoiskValue__9qXjg styles_top250Type__mPloU\").text)\n",
    "        except:'-'\n",
    "        try:\n",
    "            info = film.find('a' , class_='base-movie-main-info_link__YwtP1').find('div' , class_= \"desktop-list-main-info_additionalInfo__Hqzof\").text\n",
    "        except:\n",
    "            info = '-'\n",
    "\n",
    "        data.append([name , year , rating , timing , info , link])"
   ]
  },
  {
   "cell_type": "code",
   "execution_count": 9,
   "id": "e37c5555",
   "metadata": {},
   "outputs": [
    {
     "data": {
      "text/plain": [
       "250"
      ]
     },
     "execution_count": 9,
     "metadata": {},
     "output_type": "execute_result"
    }
   ],
   "source": [
    "len(data)"
   ]
  },
  {
   "cell_type": "code",
   "execution_count": 12,
   "id": "f2a54f9c",
   "metadata": {},
   "outputs": [],
   "source": [
    "header = ['TITLE' , 'YEAR' , 'RATE' , 'TIMING(min)' , 'INFO' , 'LINK']"
   ]
  },
  {
   "cell_type": "code",
   "execution_count": 13,
   "id": "31550ad5",
   "metadata": {},
   "outputs": [
    {
     "data": {
      "text/html": [
       "<div>\n",
       "<style scoped>\n",
       "    .dataframe tbody tr th:only-of-type {\n",
       "        vertical-align: middle;\n",
       "    }\n",
       "\n",
       "    .dataframe tbody tr th {\n",
       "        vertical-align: top;\n",
       "    }\n",
       "\n",
       "    .dataframe thead th {\n",
       "        text-align: right;\n",
       "    }\n",
       "</style>\n",
       "<table border=\"1\" class=\"dataframe\">\n",
       "  <thead>\n",
       "    <tr style=\"text-align: right;\">\n",
       "      <th></th>\n",
       "      <th>TITLE</th>\n",
       "      <th>YEAR</th>\n",
       "      <th>RATE</th>\n",
       "      <th>TIMING(min)</th>\n",
       "      <th>INFO</th>\n",
       "      <th>LINK</th>\n",
       "    </tr>\n",
       "  </thead>\n",
       "  <tbody>\n",
       "    <tr>\n",
       "      <th>0</th>\n",
       "      <td>Зеленая миля</td>\n",
       "      <td>1999</td>\n",
       "      <td>9.2</td>\n",
       "      <td>189</td>\n",
       "      <td>США • драма  Режиссёр: Фрэнк Дарабонт</td>\n",
       "      <td>https://www.kinopoisk.ru/film/435/</td>\n",
       "    </tr>\n",
       "    <tr>\n",
       "      <th>1</th>\n",
       "      <td>Список Шиндлера</td>\n",
       "      <td>1993</td>\n",
       "      <td>9.1</td>\n",
       "      <td>195</td>\n",
       "      <td>США • драма  Режиссёр: Стивен Спилберг</td>\n",
       "      <td>https://www.kinopoisk.ru/film/329/</td>\n",
       "    </tr>\n",
       "    <tr>\n",
       "      <th>2</th>\n",
       "      <td>Побег из Шоушенка</td>\n",
       "      <td>1994</td>\n",
       "      <td>9.0</td>\n",
       "      <td>142</td>\n",
       "      <td>США • драма  Режиссёр: Фрэнк Дарабонт</td>\n",
       "      <td>https://www.kinopoisk.ru/film/326/</td>\n",
       "    </tr>\n",
       "    <tr>\n",
       "      <th>3</th>\n",
       "      <td>Форрест Гамп</td>\n",
       "      <td>1994</td>\n",
       "      <td>9.0</td>\n",
       "      <td>142</td>\n",
       "      <td>США • драма  Режиссёр: Роберт Земекис</td>\n",
       "      <td>https://www.kinopoisk.ru/film/448/</td>\n",
       "    </tr>\n",
       "    <tr>\n",
       "      <th>4</th>\n",
       "      <td>Властелин колец: Возвращение короля</td>\n",
       "      <td>2003</td>\n",
       "      <td>8.9</td>\n",
       "      <td>201</td>\n",
       "      <td>Новая Зеландия • фэнтези  Режиссёр: Питер Джексон</td>\n",
       "      <td>https://www.kinopoisk.ru/film/3498/</td>\n",
       "    </tr>\n",
       "    <tr>\n",
       "      <th>...</th>\n",
       "      <td>...</td>\n",
       "      <td>...</td>\n",
       "      <td>...</td>\n",
       "      <td>...</td>\n",
       "      <td>...</td>\n",
       "      <td>...</td>\n",
       "    </tr>\n",
       "    <tr>\n",
       "      <th>245</th>\n",
       "      <td>Жизнь Дэвида Гейла</td>\n",
       "      <td>2002</td>\n",
       "      <td>8.1</td>\n",
       "      <td>130</td>\n",
       "      <td>Великобритания • триллер  Режиссёр: Алан Паркер</td>\n",
       "      <td>https://www.kinopoisk.ru/film/738/</td>\n",
       "    </tr>\n",
       "    <tr>\n",
       "      <th>246</th>\n",
       "      <td>Приключения Паддингтона 2</td>\n",
       "      <td>2017</td>\n",
       "      <td>8.1</td>\n",
       "      <td>103</td>\n",
       "      <td>Великобритания • фэнтези  Режиссёр: Пол Кинг</td>\n",
       "      <td>https://www.kinopoisk.ru/film/906042/</td>\n",
       "    </tr>\n",
       "    <tr>\n",
       "      <th>247</th>\n",
       "      <td>Звёздные войны: Эпизод 4 — Новая надежда</td>\n",
       "      <td>1977</td>\n",
       "      <td>8.1</td>\n",
       "      <td>121</td>\n",
       "      <td>США • фантастика  Режиссёр: Джордж Лукас</td>\n",
       "      <td>https://www.kinopoisk.ru/film/333/</td>\n",
       "    </tr>\n",
       "    <tr>\n",
       "      <th>248</th>\n",
       "      <td>Вечное сияние чистого разума</td>\n",
       "      <td>2004</td>\n",
       "      <td>8.1</td>\n",
       "      <td>108</td>\n",
       "      <td>США • мелодрама  Режиссёр: Мишель Гондри</td>\n",
       "      <td>https://www.kinopoisk.ru/film/5492/</td>\n",
       "    </tr>\n",
       "    <tr>\n",
       "      <th>249</th>\n",
       "      <td>Марли и я</td>\n",
       "      <td>2008</td>\n",
       "      <td>8.1</td>\n",
       "      <td>111</td>\n",
       "      <td>США • драма  Режиссёр: Дэвид Фрэнкел</td>\n",
       "      <td>https://www.kinopoisk.ru/film/279850/</td>\n",
       "    </tr>\n",
       "  </tbody>\n",
       "</table>\n",
       "<p>250 rows × 6 columns</p>\n",
       "</div>"
      ],
      "text/plain": [
       "                                        TITLE  YEAR  RATE TIMING(min)  \\\n",
       "0                                Зеленая миля  1999   9.2         189   \n",
       "1                             Список Шиндлера  1993   9.1         195   \n",
       "2                           Побег из Шоушенка  1994   9.0         142   \n",
       "3                                Форрест Гамп  1994   9.0         142   \n",
       "4         Властелин колец: Возвращение короля  2003   8.9         201   \n",
       "..                                        ...   ...   ...         ...   \n",
       "245                        Жизнь Дэвида Гейла  2002   8.1         130   \n",
       "246                 Приключения Паддингтона 2  2017   8.1         103   \n",
       "247  Звёздные войны: Эпизод 4 — Новая надежда  1977   8.1         121   \n",
       "248              Вечное сияние чистого разума  2004   8.1         108   \n",
       "249                                 Марли и я  2008   8.1         111   \n",
       "\n",
       "                                                  INFO  \\\n",
       "0                США • драма  Режиссёр: Фрэнк Дарабонт   \n",
       "1               США • драма  Режиссёр: Стивен Спилберг   \n",
       "2                США • драма  Режиссёр: Фрэнк Дарабонт   \n",
       "3                США • драма  Режиссёр: Роберт Земекис   \n",
       "4    Новая Зеландия • фэнтези  Режиссёр: Питер Джексон   \n",
       "..                                                 ...   \n",
       "245    Великобритания • триллер  Режиссёр: Алан Паркер   \n",
       "246       Великобритания • фэнтези  Режиссёр: Пол Кинг   \n",
       "247           США • фантастика  Режиссёр: Джордж Лукас   \n",
       "248           США • мелодрама  Режиссёр: Мишель Гондри   \n",
       "249               США • драма  Режиссёр: Дэвид Фрэнкел   \n",
       "\n",
       "                                      LINK  \n",
       "0       https://www.kinopoisk.ru/film/435/  \n",
       "1       https://www.kinopoisk.ru/film/329/  \n",
       "2       https://www.kinopoisk.ru/film/326/  \n",
       "3       https://www.kinopoisk.ru/film/448/  \n",
       "4      https://www.kinopoisk.ru/film/3498/  \n",
       "..                                     ...  \n",
       "245     https://www.kinopoisk.ru/film/738/  \n",
       "246  https://www.kinopoisk.ru/film/906042/  \n",
       "247     https://www.kinopoisk.ru/film/333/  \n",
       "248    https://www.kinopoisk.ru/film/5492/  \n",
       "249  https://www.kinopoisk.ru/film/279850/  \n",
       "\n",
       "[250 rows x 6 columns]"
      ]
     },
     "execution_count": 13,
     "metadata": {},
     "output_type": "execute_result"
    }
   ],
   "source": [
    "df = pd.DataFrame(data , columns = header)\n",
    "df"
   ]
  },
  {
   "cell_type": "code",
   "execution_count": 14,
   "id": "7f0f9d1b",
   "metadata": {},
   "outputs": [
    {
     "data": {
      "text/plain": [
       "Index(['TITLE', 'YEAR', 'RATE', 'TIMING(min)', 'INFO', 'LINK'], dtype='object')"
      ]
     },
     "execution_count": 14,
     "metadata": {},
     "output_type": "execute_result"
    }
   ],
   "source": [
    "df.columns"
   ]
  },
  {
   "cell_type": "code",
   "execution_count": 16,
   "id": "b2e73548",
   "metadata": {},
   "outputs": [
    {
     "name": "stdout",
     "output_type": "stream",
     "text": [
      "<class 'pandas.core.frame.DataFrame'>\n",
      "RangeIndex: 250 entries, 0 to 249\n",
      "Data columns (total 6 columns):\n",
      " #   Column       Non-Null Count  Dtype  \n",
      "---  ------       --------------  -----  \n",
      " 0   TITLE        250 non-null    object \n",
      " 1   YEAR         250 non-null    object \n",
      " 2   RATE         250 non-null    float64\n",
      " 3   TIMING(min)  250 non-null    object \n",
      " 4   INFO         250 non-null    object \n",
      " 5   LINK         250 non-null    object \n",
      "dtypes: float64(1), object(5)\n",
      "memory usage: 11.8+ KB\n"
     ]
    }
   ],
   "source": [
    "df.info()"
   ]
  },
  {
   "cell_type": "code",
   "execution_count": 29,
   "id": "03ffb716",
   "metadata": {},
   "outputs": [
    {
     "data": {
      "text/plain": [
       "'Жизнь прекрасна'"
      ]
     },
     "execution_count": 29,
     "metadata": {},
     "output_type": "execute_result"
    }
   ],
   "source": [
    "df.loc[ 55 , 'TITLE']"
   ]
  },
  {
   "cell_type": "code",
   "execution_count": 30,
   "id": "ee4df4c0",
   "metadata": {},
   "outputs": [
    {
     "data": {
      "text/plain": [
       "'1997'"
      ]
     },
     "execution_count": 30,
     "metadata": {},
     "output_type": "execute_result"
    }
   ],
   "source": [
    "df.loc[ 55 , 'YEAR']"
   ]
  },
  {
   "cell_type": "code",
   "execution_count": 32,
   "id": "789b63f2",
   "metadata": {},
   "outputs": [
    {
     "data": {
      "text/plain": [
       "'https://www.kinopoisk.ru/film/381/'"
      ]
     },
     "execution_count": 32,
     "metadata": {},
     "output_type": "execute_result"
    }
   ],
   "source": [
    "df.iloc[ 55 , 5]"
   ]
  },
  {
   "cell_type": "code",
   "execution_count": null,
   "id": "46c985ac",
   "metadata": {},
   "outputs": [],
   "source": []
  },
  {
   "cell_type": "code",
   "execution_count": null,
   "id": "b14886fe",
   "metadata": {},
   "outputs": [],
   "source": []
  }
 ],
 "metadata": {
  "kernelspec": {
   "display_name": "Python 3 (ipykernel)",
   "language": "python",
   "name": "python3"
  },
  "language_info": {
   "codemirror_mode": {
    "name": "ipython",
    "version": 3
   },
   "file_extension": ".py",
   "mimetype": "text/x-python",
   "name": "python",
   "nbconvert_exporter": "python",
   "pygments_lexer": "ipython3",
   "version": "3.11.1"
  }
 },
 "nbformat": 4,
 "nbformat_minor": 5
}
